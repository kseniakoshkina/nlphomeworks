{
 "cells": [
  {
   "cell_type": "markdown",
   "metadata": {},
   "source": [
    "## Домашнее задание Кошкиной Ксении"
   ]
  },
  {
   "cell_type": "markdown",
   "metadata": {},
   "source": [
    "# Домашнее задание 2. Извлечение коллокаций + NER\n",
    "\n",
    "## Дедлайн\n",
    "1 декабря 2021 (среда) 23:59 мск\n",
    "\n",
    "## Описание\n",
    "\n",
    "Выберите корпус отзывов на товары одной из категорий Amazon:\n",
    "http://jmcauley.ucsd.edu/data/amazon/\n",
    "\n",
    "(В низу страницы по ссылке есть код для загрузки данных, можете им воспользоваться)\n",
    "\n",
    "Допустим, что вам нужно подготовить аналитический отчет по этим отзывам — например, для производителя нового продукта этой категории. Для этого будем искать упоминания товаров в отзывах (будем считать их NE). Учтите, что упоминание может выглядеть не только как \"Iphone 10\", но и как \"модель\", \"телефон\" и т.п.\n",
    "\n",
    "**Важное замечание**: в задании приводятся примеры решений, вы можете их использовать!\n",
    "\n",
    "1. (3 балла) Предложите 3 способа найти упоминания товаров в отзывах. \n",
    "Например, использовать bootstrapping: составить шаблоны вида \"холодильник XXX\", найти все соответствующие n-граммы и выделить из них называние товара.\n",
    "Могут помочь заголовки и дополнительные данные с Amazon (Metadata [здесь](https://nijianmo.github.io/amazon/index.html))\n",
    "Какие данные необходимы для каждого из способов? Какие есть достоинства/недостатки?\n",
    "\n",
    "2. (2 балла) Реализуйте один из предложенных вами способов.\n",
    "\n",
    "Примеры в качестве подсказки (можно использовать один из них): \n",
    "- написать правила с помощью [natasha/yargy](https://github.com/natasha/yargy)\n",
    "- составить мини-словарь сущностей/дескрипторов, расширить с помощью эмбеддингов (например, word2vec)\n",
    "\n",
    "3. (1 балл) Соберите n-граммы с полученными сущностями (NE + левый сосед / NE + правый сосед)\n",
    "\n",
    "4. (3 балла) Ранжируйте n-граммы с помощью 3 коллокационных метрик (t-score, PMI и т.д.). Не забудьте про частотный фильтр / сглаживание.\n",
    "Выберите лучший результат (какая метрика  ранжирует выше коллокации, подходящие для отчёта).\n",
    "\n",
    "5. (1 балл) Сгруппируйте полученные коллокации по NE, выведите примеры для 5 товаров.\n",
    "Должны получиться примерно такие группы:\n",
    "```\n",
    "watch \n",
    "--- \n",
    "stylish watch\n",
    "good watches\n",
    "great watch\n",
    "love this watch\n",
    "...\n",
    "```\n",
    "\n",
    "**Бонус** (2 балла): \n",
    "если придумаете способ объединить синонимичные упоминания (например, \"Samsung Galaxy Watch\", \"watch\", \"smartwatch\")\n",
    "\n",
    "## Формат выполнения\n",
    "\n",
    "jupyter-ноутбук + укажите, какие данные брали — или положите их тоже в репозиторий."
   ]
  },
  {
   "cell_type": "markdown",
   "metadata": {},
   "source": [
    "### 1. Три способа выделения коллокаций: \n",
    "1. обучить модель fasttext, использовать most_similar на частотных существительных, объединить их с топом существительных и с помощью spacy найти все коллокации. недостатки: модель должна обучаться на больших данных, а не как у меня...\n",
    "2. можно сделать на основе прошлой домашки - использовать ключевые слова, но опыт показывает, что методы выделения ключевых слов не всегда справляются успешно.\n",
    "3. использовать wordnet для выделения гипонимов нужных слов. недостатки: для редких слов гипонимов и синонимов почти нет.\n",
    "\n",
    "### 2. Я выбрала корпус Digital Music.\n",
    "Однако в процессе работы над корпусом обнаружила, что в основном в данном корпусе находятся отзывы к альбомам, а не к самому продукту (например, к пластинке или cd-диску). Это не повлияло на алгоритм работы, но коллокации содержали в себе слова, относящиеся, например, к исполнителю или песням или альбому. Возможно, следовало использовать метаданные."
   ]
  },
  {
   "cell_type": "code",
   "execution_count": 1,
   "metadata": {
    "pycharm": {
     "name": "#%%\n"
    }
   },
   "outputs": [],
   "source": [
    "import json\n",
    "import gzip\n",
    "import nltk\n",
    "import spacy\n",
    "from spacy.matcher import Matcher\n",
    "from collections import Counter\n",
    "from nltk.corpus import stopwords\n",
    "from nltk.collocations import *\n",
    "stopwords = stopwords.words('english')"
   ]
  },
  {
   "cell_type": "code",
   "execution_count": 2,
   "outputs": [],
   "source": [
    "reviews = []\n",
    "with gzip.open('Digital_Music.json.gz', 'rt') as f_in:\n",
    "    for el in f_in:\n",
    "        reviews.append(json.loads(el.strip()))"
   ],
   "metadata": {
    "collapsed": false,
    "pycharm": {
     "name": "#%%\n"
    }
   }
  },
  {
   "cell_type": "code",
   "execution_count": 3,
   "metadata": {
    "pycharm": {
     "name": "#%%\n"
    }
   },
   "outputs": [],
   "source": [
    "all_reviews = reviews[:300000] #сократим, потому что отзывов слишком много"
   ]
  },
  {
   "cell_type": "code",
   "execution_count": 4,
   "metadata": {
    "pycharm": {
     "name": "#%%н\n"
    }
   },
   "outputs": [],
   "source": [
    "empty_reviews = []\n",
    "for i in range(len(all_reviews)):\n",
    "  try:\n",
    "    element = all_reviews[i]['reviewText']\n",
    "  except:\n",
    "    empty_reviews.append(i)"
   ]
  },
  {
   "cell_type": "code",
   "execution_count": 5,
   "metadata": {
    "pycharm": {
     "name": "#%%\n"
    }
   },
   "outputs": [],
   "source": [
    "clean_reviews = []\n",
    "for i in range(len(all_reviews)):\n",
    "  if i not in empty_reviews:\n",
    "    clean_reviews.append(all_reviews[i]['reviewText'])"
   ]
  },
  {
   "cell_type": "code",
   "execution_count": 6,
   "outputs": [],
   "source": [
    "from gensim.models.fasttext import FastText"
   ],
   "metadata": {
    "collapsed": false,
    "pycharm": {
     "name": "#%%\n"
    }
   }
  },
  {
   "cell_type": "code",
   "execution_count": 7,
   "outputs": [],
   "source": [
    "import re\n",
    "def preprocess(text):\n",
    "    text = text.lower().replace(\"ё\", \"е\")\n",
    "    text = re.sub('((www\\.[^\\s]+)|(https?://[^\\s]+))', 'URL', text)\n",
    "    text = re.sub('[^a-zA-Zа-яА-Я1-9]+', ' ', text)\n",
    "    text = re.sub(' +', ' ', text)\n",
    "    return text"
   ],
   "metadata": {
    "collapsed": false,
    "pycharm": {
     "name": "#%%\n"
    }
   }
  },
  {
   "cell_type": "code",
   "execution_count": 8,
   "outputs": [],
   "source": [
    "reviews_model = []\n",
    "for i in reviews[300000:1000000]:\n",
    "    try:\n",
    "        reviews_model.append(i['reviewText'])\n",
    "    except:\n",
    "        pass"
   ],
   "metadata": {
    "collapsed": false,
    "pycharm": {
     "name": "#%%\n"
    }
   }
  },
  {
   "cell_type": "code",
   "execution_count": 9,
   "outputs": [],
   "source": [
    "reviews_for_model = []\n",
    "for k in reviews_model:\n",
    "    reviews_for_model.append(preprocess(k).split())"
   ],
   "metadata": {
    "collapsed": false,
    "pycharm": {
     "name": "#%%\n"
    }
   }
  },
  {
   "cell_type": "code",
   "execution_count": 10,
   "outputs": [
    {
     "data": {
      "text/plain": "(198595599, 271326570)"
     },
     "execution_count": 10,
     "metadata": {},
     "output_type": "execute_result"
    }
   ],
   "source": [
    "fasttext_model = FastText()\n",
    "fasttext_model.build_vocab(reviews_for_model)\n",
    "fasttext_model.train(reviews_for_model, total_examples=len(reviews_for_model), epochs=10)"
   ],
   "metadata": {
    "collapsed": false,
    "pycharm": {
     "name": "#%%\n"
    }
   }
  },
  {
   "cell_type": "code",
   "execution_count": 11,
   "metadata": {
    "pycharm": {
     "name": "#%%\n"
    }
   },
   "outputs": [],
   "source": [
    "nlp = spacy.load(\"en_core_web_sm\", disable=[\"parser\", \"ner\"])\n",
    "reviews_spacy = []\n",
    "for el in clean_reviews:\n",
    "    reviews_spacy.append(nlp(el.lower()))"
   ]
  },
  {
   "cell_type": "code",
   "execution_count": 12,
   "metadata": {
    "pycharm": {
     "name": "#%%\n"
    }
   },
   "outputs": [],
   "source": [
    "lemmas = []\n",
    "for el in reviews_spacy:\n",
    "    for token in el:\n",
    "        lemmas.append((token.lemma_, token.pos_))"
   ]
  },
  {
   "cell_type": "code",
   "execution_count": 13,
   "metadata": {
    "pycharm": {
     "name": "#%%\n"
    }
   },
   "outputs": [],
   "source": [
    "common_words = Counter(lemmas).most_common(5000)"
   ]
  },
  {
   "cell_type": "code",
   "execution_count": 14,
   "metadata": {
    "pycharm": {
     "name": "#%%\n"
    }
   },
   "outputs": [],
   "source": [
    "top_nouns = []\n",
    "for i in common_words:\n",
    "    if i[0][1] == 'NOUN':\n",
    "        top_nouns.append(i[0][0])"
   ]
  },
  {
   "cell_type": "code",
   "execution_count": 15,
   "metadata": {
    "pycharm": {
     "name": "#%%\n"
    }
   },
   "outputs": [],
   "source": [
    "top_noun = top_nouns[:10]"
   ]
  },
  {
   "cell_type": "code",
   "execution_count": 16,
   "outputs": [],
   "source": [
    "top_noun.remove('time')\n",
    "top_noun.remove('voice')\n",
    "top_noun.remove('year')\n",
    "top_noun.remove('fan')"
   ],
   "metadata": {
    "collapsed": false,
    "pycharm": {
     "name": "#%%\n"
    }
   }
  },
  {
   "cell_type": "code",
   "execution_count": 17,
   "outputs": [
    {
     "data": {
      "text/plain": "['song', 'album', 'music', 'cd', 'track', 'band']"
     },
     "execution_count": 17,
     "metadata": {},
     "output_type": "execute_result"
    }
   ],
   "source": [
    "top_noun"
   ],
   "metadata": {
    "collapsed": false,
    "pycharm": {
     "name": "#%%\n"
    }
   }
  },
  {
   "cell_type": "code",
   "execution_count": 18,
   "outputs": [
    {
     "data": {
      "text/plain": "[('eunice', 0.7834376096725464),\n ('great', 0.7746039032936096),\n ('cool', 0.769225001335144),\n ('good', 0.7671172022819519),\n ('pleasant', 0.7533867359161377),\n ('nicu', 0.7016269564628601),\n ('nicer', 0.6969878077507019),\n ('neat', 0.6916473507881165),\n ('terrific', 0.6893688440322876),\n ('funicello', 0.6849390268325806)]"
     },
     "execution_count": 18,
     "metadata": {},
     "output_type": "execute_result"
    }
   ],
   "source": [
    "fasttext_model.wv.most_similar('nice')"
   ],
   "metadata": {
    "collapsed": false,
    "pycharm": {
     "name": "#%%\n"
    }
   }
  },
  {
   "cell_type": "code",
   "execution_count": 19,
   "metadata": {
    "pycharm": {
     "name": "#%%\n"
    }
   },
   "outputs": [],
   "source": [
    "model_words = []\n",
    "for el in top_noun:\n",
    "    model_words.append(el)\n",
    "    for i in list(fasttext_model.wv.most_similar(el)[:4]):\n",
    "        model_words.append(i[0])\n"
   ]
  },
  {
   "cell_type": "code",
   "execution_count": 43,
   "metadata": {
    "pycharm": {
     "name": "#%%\n"
    }
   },
   "outputs": [],
   "source": [
    "adj = [{'POS': 'ADJ'},\n",
    "       {\"LEMMA\": {\"IN\": model_words}}]\n",
    "be = [{\"LEMMA\": {\"IN\": model_words}},\n",
    "      {'LEMMA': 'be'},\n",
    "      {'POS': {\"IN\": ['ADJ', 'NOUN']}}]\n",
    "love = [{'LEMMA': 'love'},\n",
    "        {'POS': {\"IN\": ['DET']}},\n",
    "        {\"LEMMA\": {\"IN\": model_words}}]\n",
    "matcher = Matcher(nlp.vocab)\n",
    "matcher.add(\"adj\", [adj])\n",
    "matcher.add(\"be\", [be])\n",
    "matcher.add(\"love\", [love])"
   ]
  },
  {
   "cell_type": "code",
   "execution_count": 49,
   "metadata": {
    "pycharm": {
     "name": "#%%\n"
    }
   },
   "outputs": [],
   "source": [
    "matches = []\n",
    "for doc in reviews_spacy:\n",
    "    match = matcher(doc)\n",
    "    for match_id, start, end in match:\n",
    "        span = doc[start:end]\n",
    "        matches.append(span.text)"
   ]
  },
  {
   "cell_type": "code",
   "execution_count": 50,
   "outputs": [
    {
     "data": {
      "text/plain": "[('love this song', 12657),\n ('great song', 9957),\n ('great music', 4163),\n ('great album', 3317),\n ('good song', 3316),\n ('favorite songs', 3176),\n ('beautiful song', 2617),\n ('good music', 2607),\n ('favorite song', 2350),\n ('great songs', 2247)]"
     },
     "execution_count": 50,
     "metadata": {},
     "output_type": "execute_result"
    }
   ],
   "source": [
    "common_collocations = Counter(matches).most_common()\n",
    "common_collocations[:10]"
   ],
   "metadata": {
    "collapsed": false,
    "pycharm": {
     "name": "#%%\n"
    }
   }
  },
  {
   "cell_type": "code",
   "execution_count": 51,
   "metadata": {
    "pycharm": {
     "name": "#%%\n"
    }
   },
   "outputs": [],
   "source": [
    "_reviews = []\n",
    "for i in common_collocations:\n",
    "    for el in model_words:\n",
    "        if el in i[0]:\n",
    "            _reviews.append([el,i])"
   ]
  },
  {
   "cell_type": "code",
   "execution_count": 52,
   "outputs": [],
   "source": [
    "_reviews2 = []\n",
    "for i in _reviews:\n",
    "  if i not in _reviews2:\n",
    "    _reviews2.append(i)"
   ],
   "metadata": {
    "collapsed": false,
    "pycharm": {
     "name": "#%%\n"
    }
   }
  },
  {
   "cell_type": "code",
   "execution_count": 53,
   "outputs": [],
   "source": [
    "def get_all_colloc(word, reviews):\n",
    "    word_list = []\n",
    "    for el in reviews:\n",
    "        if word in el[0]:\n",
    "            word_list.append(el[1])\n",
    "    return word_list"
   ],
   "metadata": {
    "collapsed": false,
    "pycharm": {
     "name": "#%%\n"
    }
   }
  },
  {
   "cell_type": "code",
   "execution_count": 54,
   "metadata": {
    "pycharm": {
     "name": "#%%\n"
    }
   },
   "outputs": [
    {
     "name": "stdout",
     "output_type": "stream",
     "text": [
      "great album 3317\n",
      "whole album 1803\n",
      "first album 1650\n",
      "love this album 1645\n",
      "new album 1412\n",
      "entire album 1347\n",
      "best album 1175\n",
      "good album 1063\n",
      "best albums 767\n",
      "other albums 744\n",
      "\n",
      "\n",
      "love this song 12657\n",
      "great song 9957\n",
      "good song 3316\n",
      "favorite songs 3176\n",
      "beautiful song 2617\n",
      "favorite song 2350\n",
      "great songs 2247\n",
      "best songs 2168\n",
      "loved this song 2125\n",
      "love the song 2081\n",
      "\n",
      "\n",
      "great music 4163\n",
      "good music 2607\n",
      "classical music 970\n",
      "christian music 792\n",
      "beautiful music 753\n",
      "love the music 711\n",
      "new music 629\n",
      "more music 528\n",
      "music is great 442\n",
      "real music 399\n",
      "\n",
      "\n",
      "great cd 2126\n",
      "love this cd 2099\n",
      "whole cd 856\n",
      "new cd 828\n",
      "good cd 803\n",
      "first cd 659\n",
      "best cd 650\n",
      "entire cd 635\n",
      "cd is great 459\n",
      "favorite cd 308\n",
      "\n",
      "\n"
     ]
    }
   ],
   "source": [
    "needed_words = ['album', 'song', 'music', 'cd']\n",
    "for i in needed_words:\n",
    "    for k in get_all_colloc(i, _reviews2)[:10]:\n",
    "        print(*k)\n",
    "    print('\\n')"
   ]
  },
  {
   "cell_type": "code",
   "execution_count": 55,
   "metadata": {
    "pycharm": {
     "name": "#%%\n"
    }
   },
   "outputs": [],
   "source": [
    "left = [{'IS_PUNCT': False},\n",
    "        {\"LEMMA\": {\"IN\": model_words}}]\n",
    "right = [{\"LEMMA\": {\"IN\": model_words}},\n",
    "         {'IS_PUNCT': False}]\n",
    "matcher2 = Matcher(nlp.vocab)\n",
    "matcher2.add(\"left\", [left])\n",
    "matcher2.add(\"right\", [right])\n",
    "contexts = []\n",
    "for doc in reviews_spacy:\n",
    "    matches = matcher2(doc)\n",
    "    for match_id, start, end in matches:\n",
    "        span = doc[start:end]\n",
    "        contexts.append(span.text)"
   ]
  },
  {
   "cell_type": "code",
   "execution_count": 56,
   "metadata": {
    "pycharm": {
     "name": "#%%\n"
    }
   },
   "outputs": [
    {
     "data": {
      "text/plain": "[('this song', 65282),\n ('this album', 33564),\n ('this cd', 24614),\n ('the song', 23133),\n ('the album', 17507),\n ('great song', 15264),\n ('the music', 15046),\n ('song is', 13858),\n ('the songs', 13719),\n ('the cd', 10878)]"
     },
     "execution_count": 56,
     "metadata": {},
     "output_type": "execute_result"
    }
   ],
   "source": [
    "Counter(contexts).most_common(10)"
   ]
  },
  {
   "cell_type": "markdown",
   "source": [
    "Удаляем стоп-слова"
   ],
   "metadata": {
    "collapsed": false,
    "pycharm": {
     "name": "#%% md\n"
    }
   }
  },
  {
   "cell_type": "code",
   "execution_count": 57,
   "outputs": [],
   "source": [
    "ngrams = []\n",
    "for el in contexts:\n",
    "    stop = []\n",
    "    for i in el.split():\n",
    "        if i in stopwords:\n",
    "            stop.append(i)\n",
    "    if len(stop) == 0:\n",
    "        ngrams.append(el.split())"
   ],
   "metadata": {
    "collapsed": false,
    "pycharm": {
     "name": "#%%\n"
    }
   }
  },
  {
   "cell_type": "code",
   "execution_count": 58,
   "outputs": [
    {
     "data": {
      "text/plain": "[['great', 'cd'],\n ['cd', 'full'],\n ['green', 'songs'],\n ['best', 'album'],\n ['favorite', 'songs']]"
     },
     "execution_count": 58,
     "metadata": {},
     "output_type": "execute_result"
    }
   ],
   "source": [
    "ngrams[:5]"
   ],
   "metadata": {
    "collapsed": false,
    "pycharm": {
     "name": "#%%\n"
    }
   }
  },
  {
   "cell_type": "code",
   "execution_count": 59,
   "outputs": [],
   "source": [
    "bigram_measures = nltk.collocations.BigramAssocMeasures()\n",
    "finder_bi = BigramCollocationFinder.from_documents(ngrams)"
   ],
   "metadata": {
    "collapsed": false,
    "pycharm": {
     "name": "#%%\n"
    }
   }
  },
  {
   "cell_type": "code",
   "execution_count": 60,
   "outputs": [
    {
     "data": {
      "text/plain": "[(('rx', 'bandits'), 18.42739264787276),\n (('tracker', 'e.p'), 18.42739264787276),\n (('cmr', 'albumes'), 16.842430147151603),\n (('owns', 'emusic'), 16.842430147151603),\n (('songza', 'stations'), 16.842430147151603),\n (('sv', 'albumns'), 16.842430147151603),\n (('cd3', 'alt'), 16.42739264787276),\n (('eyed', 'bandit'), 16.42739264787276),\n (('frequency', 'bandwidth'), 16.42739264787276),\n (('albume', 'drot'), 15.842430147151605)]"
     },
     "execution_count": 60,
     "metadata": {},
     "output_type": "execute_result"
    }
   ],
   "source": [
    "finder_bi.score_ngrams(bigram_measures.pmi)[:10]"
   ],
   "metadata": {
    "collapsed": false,
    "pycharm": {
     "name": "#%%\n"
    }
   }
  },
  {
   "cell_type": "code",
   "execution_count": 61,
   "outputs": [
    {
     "data": {
      "text/plain": "[(('song', 'song'), 32943.114344042886),\n (('great', 'song'), 23893.848277496345),\n (('song', 'music'), 20800.448225451888),\n (('music', 'song'), 20164.00643585248),\n (('album', 'song'), 15934.653813910345),\n (('song', 'album'), 15680.274056687758),\n (('songs', 'song'), 14044.054994619231),\n (('music', 'music'), 13066.046588394544),\n (('cd', 'song'), 10020.04388978883),\n (('album', 'music'), 10006.033201335726)]"
     },
     "execution_count": 61,
     "metadata": {},
     "output_type": "execute_result"
    }
   ],
   "source": [
    "finder_bi.score_ngrams(bigram_measures.likelihood_ratio)[:10]"
   ],
   "metadata": {
    "collapsed": false,
    "pycharm": {
     "name": "#%%\n"
    }
   }
  },
  {
   "cell_type": "code",
   "execution_count": 62,
   "outputs": [
    {
     "data": {
      "text/plain": "[(('great', 'song'), 0.02164912922674995),\n (('good', 'song'), 0.006941223692067234),\n (('great', 'music'), 0.005904436908474846),\n (('every', 'song'), 0.0055002177110414245),\n ((\"'s\", 'music'), 0.004951330590316043),\n (('great', 'album'), 0.004705962445909089),\n (('favorite', 'songs'), 0.004504562003679104),\n (('great', 'cd'), 0.003745764562883033),\n (('beautiful', 'song'), 0.0037159799904405706),\n (('good', 'music'), 0.003697541921785713)]"
     },
     "execution_count": 62,
     "metadata": {},
     "output_type": "execute_result"
    }
   ],
   "source": [
    "finder_bi.score_ngrams(bigram_measures.raw_freq)[:10]"
   ],
   "metadata": {
    "collapsed": false,
    "pycharm": {
     "name": "#%%\n"
    }
   }
  },
  {
   "cell_type": "code",
   "execution_count": 63,
   "outputs": [
    {
     "data": {
      "text/plain": "[(('rx', 'bandits'), 705063.0),\n (('tracker', 'e.p'), 352530.99999929086),\n (('cd3', 'alt'), 176264.24999574505),\n (('eyed', 'bandit'), 176264.24999574505),\n (('songza', 'stations'), 117509.66666548474),\n (('sv', 'albumns'), 117509.66666548474),\n (('cmr', 'albumes'), 117509.33333215141),\n (('owns', 'emusic'), 117509.33333215141),\n (('frequency', 'bandwidth'), 88131.99999875898),\n ((\"'ve\", 'grouped'), 78337.77777604443)]"
     },
     "execution_count": 63,
     "metadata": {},
     "output_type": "execute_result"
    }
   ],
   "source": [
    "finder_bi.score_ngrams(bigram_measures.chi_sq)[:10]\n"
   ],
   "metadata": {
    "collapsed": false,
    "pycharm": {
     "name": "#%%\n"
    }
   }
  }
 ],
 "metadata": {
  "kernelspec": {
   "display_name": "Python 3",
   "language": "python",
   "name": "python3"
  },
  "language_info": {
   "codemirror_mode": {
    "name": "ipython",
    "version": 3
   },
   "file_extension": ".py",
   "mimetype": "text/x-python",
   "name": "python",
   "nbconvert_exporter": "python",
   "pygments_lexer": "ipython3",
   "version": "3.7.4"
  }
 },
 "nbformat": 4,
 "nbformat_minor": 1
}